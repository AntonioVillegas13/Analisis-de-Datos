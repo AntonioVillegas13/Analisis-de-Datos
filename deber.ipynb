{
 "cells": [
  {
   "cell_type": "code",
   "execution_count": 3,
   "id": "645a2092",
   "metadata": {},
   "outputs": [
    {
     "ename": "SyntaxError",
     "evalue": "invalid syntax (Temp/ipykernel_7392/602974327.py, line 1)",
     "output_type": "error",
     "traceback": [
      "\u001b[1;36m  File \u001b[1;32m\"C:\\Users\\USER\\AppData\\Local\\Temp/ipykernel_7392/602974327.py\"\u001b[1;36m, line \u001b[1;32m1\u001b[0m\n\u001b[1;33m    pip install pymongo\u001b[0m\n\u001b[1;37m        ^\u001b[0m\n\u001b[1;31mSyntaxError\u001b[0m\u001b[1;31m:\u001b[0m invalid syntax\n"
     ]
    }
   ],
   "source": [
    "pip install pymongo\n"
   ]
  },
  {
   "cell_type": "code",
   "execution_count": 1,
   "id": "38b63dc1",
   "metadata": {},
   "outputs": [],
   "source": [
    "import pymongo\n",
    "from pymongo import MongoClient\n",
    "import numpy as np\n",
    "import random\n",
    "\n",
    "import time"
   ]
  },
  {
   "cell_type": "code",
   "execution_count": 2,
   "id": "3dc3836c",
   "metadata": {},
   "outputs": [],
   "source": [
    "def connectMg ():\n",
    "    URI_CONNECTION = \"mongodb://localhost:27017\"\n",
    "    client=MongoClient(URI_CONNECTION)\n",
    "    dbname=client['test1']\n",
    "    return dbname['ejemplo1']"
   ]
  },
  {
   "cell_type": "code",
   "execution_count": 3,
   "id": "8cf64a77",
   "metadata": {},
   "outputs": [],
   "source": [
    "def VerDatos():\n",
    "    datos= collectionName.find()\n",
    "    for i in datos:\n",
    "        print(i)\n",
    "    \n",
    "    "
   ]
  },
  {
   "cell_type": "code",
   "execution_count": 4,
   "id": "d02abedf",
   "metadata": {},
   "outputs": [],
   "source": [
    "def crearciudadano(n,collectionName):\n",
    "    nombres=[\"Luis\",\"Ana\",\"Juan\",\"Adrian\",\"Steven\",\"Antonio\",\"Alexander\",\"Jean\",\"Francisco\",\"Jose\"]\n",
    "    apellidos=[\"Zambrano\", \"Medina\", \"Arias\",\"Chicaiza\",\"Villegas\",\"Fuentes\",\"Tupiza\",\"Salazar\",\"Hurtado\",\"Pilataxi\"]\n",
    "    for i in range(n):\n",
    "        no=random.choice(nombres)\n",
    "        no1=random.choice(nombres)\n",
    "        A=no+\" \"+no1\n",
    "        ap=random.choice(apellidos)\n",
    "        ap1=random.choice(apellidos)\n",
    "        B=ap+\"  \"+ap1\n",
    "        cedularam=np.random.randint(1111111111,9999999999,dtype='int64')\n",
    "        cedularam=str(cedularam)\n",
    "        ed=np.random.randint(18,80)\n",
    "        i={'id':i,\n",
    "          'nombres': A,\n",
    "           'apellidos':B,\n",
    "           'Edad':ed,\n",
    "           'Cedula':cedularam\n",
    "          }\n",
    "        collectionName.insert_one(i)\n",
    "    "
   ]
  },
  {
   "cell_type": "code",
   "execution_count": null,
   "id": "2f744cf9",
   "metadata": {},
   "outputs": [
    {
     "name": "stdout",
     "output_type": "stream",
     "text": [
      "---------------------MongosDB---------------------\n",
      "Ingrese una Opcion\n",
      "1.Ingresar Datos\n",
      "2.Ver Datos Almacenados\n",
      "3.Salir\n",
      "1\n",
      "1.Ingrese el n ciudadanos\n",
      "2\n",
      "---------------------MongosDB---------------------\n",
      "Ingrese una Opcion\n",
      "1.Ingresar Datos\n",
      "2.Ver Datos Almacenados\n",
      "3.Salir\n",
      "2\n",
      "{'_id': ObjectId('61e4c887ccb14174b744876d'), 'id': 0, 'nombres': 'Adrian Antonio', 'apellidos': 'Hurtado  Villegas', 'Edad': 26, 'Cedula': '4882753176'}\n",
      "{'_id': ObjectId('61e4c887ccb14174b744876e'), 'id': 1, 'nombres': 'Francisco Antonio', 'apellidos': 'Chicaiza  Salazar', 'Edad': 66, 'Cedula': '3033817635'}\n",
      "{'_id': ObjectId('61e4c8cfccb14174b7448770'), 'id': 0, 'nombres': 'Jean Jean', 'apellidos': 'Medina  Chicaiza', 'Edad': 19, 'Cedula': '3727045349'}\n",
      "{'_id': ObjectId('61e4c8cfccb14174b7448771'), 'id': 1, 'nombres': 'Alexander Steven', 'apellidos': 'Hurtado  Salazar', 'Edad': 21, 'Cedula': '7993213209'}\n",
      "{'_id': ObjectId('61e4c8cfccb14174b7448772'), 'id': 2, 'nombres': 'Antonio Juan', 'apellidos': 'Zambrano  Villegas', 'Edad': 77, 'Cedula': '8623853085'}\n",
      "{'_id': ObjectId('61e4c8cfccb14174b7448773'), 'id': 3, 'nombres': 'Antonio Ana', 'apellidos': 'Villegas  Arias', 'Edad': 20, 'Cedula': '2486632990'}\n",
      "{'_id': ObjectId('61e4c935ccb14174b7448776'), 'id': 0, 'nombres': 'Adrian Juan', 'apellidos': 'Zambrano  Salazar', 'Edad': 69, 'Cedula': '7995942144'}\n",
      "{'_id': ObjectId('61e4c935ccb14174b7448777'), 'id': 1, 'nombres': 'Antonio Jean', 'apellidos': 'Medina  Tupiza', 'Edad': 53, 'Cedula': '3410638960'}\n",
      "{'_id': ObjectId('61e4cb6437baa5aa1a655bbd'), 'id': 0, 'nombres': 'Jean Ana', 'apellidos': 'Arias  Villegas', 'Edad': 47, 'Cedula': '7617952622'}\n",
      "{'_id': ObjectId('61e4cb6437baa5aa1a655bbe'), 'id': 1, 'nombres': 'Luis Steven', 'apellidos': 'Medina  Chicaiza', 'Edad': 44, 'Cedula': '3313745566'}\n",
      "{'_id': ObjectId('61e4cff4e57ee125e8d96e00'), 'id': 0, 'nombres': 'Alexander Luis', 'apellidos': 'Medina  Medina', 'Edad': 26, 'Cedula': '9250261118'}\n",
      "{'_id': ObjectId('61e4cff4e57ee125e8d96e01'), 'id': 1, 'nombres': 'Luis Ana', 'apellidos': 'Villegas  Arias', 'Edad': 28, 'Cedula': '6469393683'}\n",
      "Presione Cualquier tecla para continuar:\n"
     ]
    }
   ],
   "source": [
    "collectionName= connectMg()\n",
    "y=0\n",
    "while(y!=3):\n",
    "    print(\"---------------------MongosDB---------------------\")\n",
    "\n",
    "    print(\"Ingrese una Opcion\")\n",
    "\n",
    "    print(\"1.Ingresar Datos\")\n",
    "    print(\"2.Ver Datos Almacenados\")\n",
    "    print(\"3.Salir\")\n",
    "    y=int(input())\n",
    "\n",
    "    if(y==1):\n",
    "        print(\"1.Ingrese el n ciudadanos\")\n",
    "        n=input()\n",
    "        n=int(n)\n",
    "        crearciudadano(n,collectionName)\n",
    "    elif (y==2):\n",
    "        VerDatos()\n",
    "        print(\"Presione Cualquier tecla para continuar:\")\n",
    "        cualquierTecla=input()\n",
    "        ##time.sleep(5)"
   ]
  },
  {
   "cell_type": "code",
   "execution_count": null,
   "id": "3f278657",
   "metadata": {},
   "outputs": [],
   "source": [
    "\n"
   ]
  },
  {
   "cell_type": "code",
   "execution_count": null,
   "id": "c500d54e",
   "metadata": {},
   "outputs": [],
   "source": []
  }
 ],
 "metadata": {
  "kernelspec": {
   "display_name": "Python 3 (ipykernel)",
   "language": "python",
   "name": "python3"
  },
  "language_info": {
   "codemirror_mode": {
    "name": "ipython",
    "version": 3
   },
   "file_extension": ".py",
   "mimetype": "text/x-python",
   "name": "python",
   "nbconvert_exporter": "python",
   "pygments_lexer": "ipython3",
   "version": "3.8.0"
  }
 },
 "nbformat": 4,
 "nbformat_minor": 5
}
